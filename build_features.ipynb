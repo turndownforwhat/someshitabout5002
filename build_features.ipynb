{
 "cells": [
  {
   "cell_type": "code",
   "execution_count": 7,
   "metadata": {},
   "outputs": [],
   "source": [
    "import pandas as pd\n",
    "import numpy as np\n",
    "from datetime import datetime"
   ]
  },
  {
   "cell_type": "code",
   "execution_count": 3,
   "metadata": {},
   "outputs": [],
   "source": [
    "# load air quality file and grid weather file\n",
    "aq_df = pd.read_csv(\"./data/MSBD5002PROJECT_data/air_quality_concated.csv\")\n",
    "grid_df = pd.read_csv(\"./data/MSBD5002PROJECT_data/grid_weather_1701_1804_unfill.csv\")"
   ]
  },
  {
   "cell_type": "code",
   "execution_count": 56,
   "metadata": {},
   "outputs": [],
   "source": [
    "def time_range(str_start='2018-04-01 00:00:00',str_end='2018-04-30 23:00:00'):\n",
    "    timeFrom = datetime.strptime(str_start, \"%Y-%m-%d %H:%M:%S\")\n",
    "    timeTo = datetime.strptime(str_end,\"%Y-%m-%d %H:%M:%S\")\n",
    "    Hours_Delta = pd.date_range(timeFrom, timeTo, freq='H').strftime('%Y-%m-%d %H:%M:%S')\n",
    "    \n",
    "    return Hours_Delta"
   ]
  },
  {
   "cell_type": "code",
   "execution_count": 59,
   "metadata": {
    "scrolled": true
   },
   "outputs": [
    {
     "name": "stdout",
     "output_type": "stream",
     "text": [
      "<class 'pandas.core.frame.DataFrame'>\n",
      "RangeIndex: 7498182 entries, 0 to 7498181\n",
      "Data columns (total 7 columns):\n",
      "humidity          float64\n",
      "pressure          float64\n",
      "station_id        object\n",
      "temperature       float64\n",
      "time              object\n",
      "wind_direction    float64\n",
      "wind_speed        float64\n",
      "dtypes: float64(5), object(2)\n",
      "memory usage: 400.4+ MB\n"
     ]
    }
   ],
   "source": [
    "aq_df.time.unique()\n",
    "grid_df.info()"
   ]
  },
  {
   "cell_type": "code",
   "execution_count": 34,
   "metadata": {},
   "outputs": [],
   "source": [
    "apr_grid_df = grid_df[grid_df[\"time\"] >= \"2018-04-01 00:00:00\"]\n",
    "station_rows = {}\n",
    "\n",
    "for grid in grid_df.station_id.unique():\n",
    "    each_station = apr_grid_df[apr_grid_df[\"station_id\"] == grid].shape[0]\n",
    "    station_rows[grid] = each_station\n",
    "\n",
    "result = [[i,station_rows[i]] for i in station_rows.keys() if station_rows[i] != 712]\n",
    "result"
   ]
  },
  {
   "cell_type": "code",
   "execution_count": 58,
   "metadata": {},
   "outputs": [
    {
     "name": "stdout",
     "output_type": "stream",
     "text": [
      "{'2018-04-01 16:00:00', '2018-04-12 07:00:00', '2018-04-19 06:00:00', '2018-04-12 05:00:00', '2018-04-30 13:00:00', '2018-04-12 04:00:00', '2018-04-04 13:00:00', '2018-04-07 03:00:00', '2018-04-19 07:00:00'} {'2018-04-01 16:00:00', '2018-04-19 08:00:00', '2018-04-12 07:00:00', '2018-04-19 06:00:00', '2018-04-12 05:00:00', '2018-04-30 13:00:00', '2018-04-12 04:00:00', '2018-04-07 03:00:00', '2018-04-19 07:00:00'}\n"
     ]
    }
   ],
   "source": [
    "apr_grid_df_000 = apr_grid_df[apr_grid_df[\"station_id\"] == 'beijing_grid_000']\n",
    "result_000_set = set(time_range()) - set(apr_grid_df_000.time.unique())\n",
    "apr_grid_df_001 = apr_grid_df[apr_grid_df[\"station_id\"] == 'beijing_grid_001']\n",
    "result_001_set = set(time_range()) - set(apr_grid_df_001.time.unique())\n",
    "print(result_000_set,result_001_set)"
   ]
  },
  {
   "cell_type": "code",
   "execution_count": 53,
   "metadata": {},
   "outputs": [
    {
     "data": {
      "text/plain": [
       "set()"
      ]
     },
     "execution_count": 53,
     "metadata": {},
     "output_type": "execute_result"
    }
   ],
   "source": [
    "result_set"
   ]
  },
  {
   "cell_type": "code",
   "execution_count": 17,
   "metadata": {},
   "outputs": [],
   "source": [
    "def time_range(str_start='2017-01-01 00:00:00',str_end='2018-03-27 23:00:00'):\n",
    "    timeFrom = datetime.strptime(str_start, \"%Y-%m-%d %H:%M:%S\")\n",
    "    timeTo = datetime.strptime(str_end,\"%Y-%m-%d %H:%M:%S\")\n",
    "    Hours_Delta = pd.date_range(timeFrom, timeTo, freq='H').strftime('%Y-%m-%d %H:%M:%S')\n",
    "    \n",
    "    return Hours_Delta"
   ]
  },
  {
   "cell_type": "code",
   "execution_count": 28,
   "metadata": {},
   "outputs": [
    {
     "data": {
      "text/plain": [
       "10824"
      ]
     },
     "execution_count": 28,
     "metadata": {},
     "output_type": "execute_result"
    }
   ],
   "source": [
    "range1 = time_range()\n",
    "range2 = time_range(\"2018-04-01 00:00:00\",\"2018-04-30 23:00:00\")\n",
    "range_tol = range1 + range2\n",
    "range1"
   ]
  }
 ],
 "metadata": {
  "kernelspec": {
   "display_name": "Python 3",
   "language": "python",
   "name": "python3"
  },
  "language_info": {
   "codemirror_mode": {
    "name": "ipython",
    "version": 3
   },
   "file_extension": ".py",
   "mimetype": "text/x-python",
   "name": "python",
   "nbconvert_exporter": "python",
   "pygments_lexer": "ipython3",
   "version": "3.6.6"
  }
 },
 "nbformat": 4,
 "nbformat_minor": 2
}
